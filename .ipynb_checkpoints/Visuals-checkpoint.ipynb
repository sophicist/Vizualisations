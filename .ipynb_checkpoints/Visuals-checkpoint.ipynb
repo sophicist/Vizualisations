{
 "cells": [
  {
   "cell_type": "markdown",
   "metadata": {
    "ExecuteTime": {
     "end_time": "2020-06-28T08:13:25.102219Z",
     "start_time": "2020-06-28T08:13:25.089226Z"
    }
   },
   "source": [
    "# Preamble"
   ]
  },
  {
   "cell_type": "code",
   "execution_count": 5,
   "metadata": {
    "ExecuteTime": {
     "end_time": "2020-06-28T08:05:53.332589Z",
     "start_time": "2020-06-28T08:05:50.417729Z"
    }
   },
   "outputs": [
    {
     "name": "stderr",
     "output_type": "stream",
     "text": [
      "C:\\Users\\Maria\\AppData\\Roaming\\Python\\Python37\\site-packages\\statsmodels\\tools\\_testing.py:19: FutureWarning: pandas.util.testing is deprecated. Use the functions in the public API at pandas.testing instead.\n",
      "  import pandas.util.testing as tm\n"
     ]
    }
   ],
   "source": [
    "import matplotlib.pyplot as plt\n",
    "import seaborn as sns"
   ]
  },
  {
   "cell_type": "code",
   "execution_count": 16,
   "metadata": {
    "ExecuteTime": {
     "end_time": "2020-06-28T08:16:36.880603Z",
     "start_time": "2020-06-28T08:16:36.704706Z"
    }
   },
   "outputs": [
    {
     "data": {
      "text/html": [
       "<div>\n",
       "<style scoped>\n",
       "    .dataframe tbody tr th:only-of-type {\n",
       "        vertical-align: middle;\n",
       "    }\n",
       "\n",
       "    .dataframe tbody tr th {\n",
       "        vertical-align: top;\n",
       "    }\n",
       "\n",
       "    .dataframe thead th {\n",
       "        text-align: right;\n",
       "    }\n",
       "</style>\n",
       "<table border=\"1\" class=\"dataframe\">\n",
       "  <thead>\n",
       "    <tr style=\"text-align: right;\">\n",
       "      <th></th>\n",
       "      <th>2001</th>\n",
       "      <th>2002</th>\n",
       "      <th>2003</th>\n",
       "      <th>2004</th>\n",
       "      <th>2005</th>\n",
       "      <th>2006</th>\n",
       "      <th>2007</th>\n",
       "      <th>2008</th>\n",
       "      <th>2009</th>\n",
       "      <th>_Institutional</th>\n",
       "      <th>industry</th>\n",
       "      <th>OBJECTID</th>\n",
       "    </tr>\n",
       "  </thead>\n",
       "  <tbody>\n",
       "    <tr>\n",
       "      <th>0</th>\n",
       "      <td>273355</td>\n",
       "      <td>264883</td>\n",
       "      <td>271957</td>\n",
       "      <td>276448</td>\n",
       "      <td>295811</td>\n",
       "      <td>309034</td>\n",
       "      <td>316837</td>\n",
       "      <td>303803</td>\n",
       "      <td>295852</td>\n",
       "      <td>Corporations, non-profit institutions and hous...</td>\n",
       "      <td>Agriculture and forestry</td>\n",
       "      <td>0</td>\n",
       "    </tr>\n",
       "    <tr>\n",
       "      <th>1</th>\n",
       "      <td>6532</td>\n",
       "      <td>5119</td>\n",
       "      <td>4765</td>\n",
       "      <td>5246</td>\n",
       "      <td>5751</td>\n",
       "      <td>6249</td>\n",
       "      <td>6181</td>\n",
       "      <td>5363</td>\n",
       "      <td>5759</td>\n",
       "      <td>Corporations, non-profit institutions and hous...</td>\n",
       "      <td>Fishing</td>\n",
       "      <td>1</td>\n",
       "    </tr>\n",
       "    <tr>\n",
       "      <th>2</th>\n",
       "      <td>4915</td>\n",
       "      <td>5036</td>\n",
       "      <td>5213</td>\n",
       "      <td>5195</td>\n",
       "      <td>5334</td>\n",
       "      <td>5554</td>\n",
       "      <td>6272</td>\n",
       "      <td>6453</td>\n",
       "      <td>6179</td>\n",
       "      <td>Corporations, non-profit institutions and hous...</td>\n",
       "      <td>Mining and quarrying</td>\n",
       "      <td>2</td>\n",
       "    </tr>\n",
       "  </tbody>\n",
       "</table>\n",
       "</div>"
      ],
      "text/plain": [
       "     2001    2002    2003    2004    2005    2006    2007    2008    2009  \\\n",
       "0  273355  264883  271957  276448  295811  309034  316837  303803  295852   \n",
       "1    6532    5119    4765    5246    5751    6249    6181    5363    5759   \n",
       "2    4915    5036    5213    5195    5334    5554    6272    6453    6179   \n",
       "\n",
       "                                      _Institutional  \\\n",
       "0  Corporations, non-profit institutions and hous...   \n",
       "1  Corporations, non-profit institutions and hous...   \n",
       "2  Corporations, non-profit institutions and hous...   \n",
       "\n",
       "                   industry  OBJECTID  \n",
       "0  Agriculture and forestry         0  \n",
       "1                   Fishing         1  \n",
       "2      Mining and quarrying         2  "
      ]
     },
     "execution_count": 16,
     "metadata": {},
     "output_type": "execute_result"
    }
   ],
   "source": [
    "import pandas as pd\n",
    "import os\n",
    "#os.listdir()\n",
    "df = pd.read_csv('GDP_all.csv')\n",
    "df.head(3)"
   ]
  },
  {
   "cell_type": "markdown",
   "metadata": {},
   "source": [
    "# Matplotlib"
   ]
  },
  {
   "cell_type": "code",
   "execution_count": 25,
   "metadata": {
    "ExecuteTime": {
     "end_time": "2020-06-28T08:19:43.329156Z",
     "start_time": "2020-06-28T08:19:43.297176Z"
    }
   },
   "outputs": [
    {
     "data": {
      "text/html": [
       "<div>\n",
       "<style scoped>\n",
       "    .dataframe tbody tr th:only-of-type {\n",
       "        vertical-align: middle;\n",
       "    }\n",
       "\n",
       "    .dataframe tbody tr th {\n",
       "        vertical-align: top;\n",
       "    }\n",
       "\n",
       "    .dataframe thead th {\n",
       "        text-align: right;\n",
       "    }\n",
       "</style>\n",
       "<table border=\"1\" class=\"dataframe\">\n",
       "  <thead>\n",
       "    <tr style=\"text-align: right;\">\n",
       "      <th></th>\n",
       "      <th>industry</th>\n",
       "      <th>variable</th>\n",
       "      <th>value</th>\n",
       "    </tr>\n",
       "  </thead>\n",
       "  <tbody>\n",
       "    <tr>\n",
       "      <th>0</th>\n",
       "      <td>Agriculture and forestry</td>\n",
       "      <td>2001</td>\n",
       "      <td>273355</td>\n",
       "    </tr>\n",
       "    <tr>\n",
       "      <th>1</th>\n",
       "      <td>Fishing</td>\n",
       "      <td>2001</td>\n",
       "      <td>6532</td>\n",
       "    </tr>\n",
       "    <tr>\n",
       "      <th>2</th>\n",
       "      <td>Mining and quarrying</td>\n",
       "      <td>2001</td>\n",
       "      <td>4915</td>\n",
       "    </tr>\n",
       "    <tr>\n",
       "      <th>3</th>\n",
       "      <td>Manufacturing</td>\n",
       "      <td>2001</td>\n",
       "      <td>99777</td>\n",
       "    </tr>\n",
       "    <tr>\n",
       "      <th>4</th>\n",
       "      <td>Electricity and water supply</td>\n",
       "      <td>2001</td>\n",
       "      <td>18158</td>\n",
       "    </tr>\n",
       "    <tr>\n",
       "      <th>...</th>\n",
       "      <td>...</td>\n",
       "      <td>...</td>\n",
       "      <td>...</td>\n",
       "    </tr>\n",
       "    <tr>\n",
       "      <th>265</th>\n",
       "      <td>Health and social work</td>\n",
       "      <td>2009</td>\n",
       "      <td>11741</td>\n",
       "    </tr>\n",
       "    <tr>\n",
       "      <th>266</th>\n",
       "      <td>Other services</td>\n",
       "      <td>2009</td>\n",
       "      <td>2626</td>\n",
       "    </tr>\n",
       "    <tr>\n",
       "      <th>267</th>\n",
       "      <td>Total value added at basic prices</td>\n",
       "      <td>2009</td>\n",
       "      <td>152117</td>\n",
       "    </tr>\n",
       "    <tr>\n",
       "      <th>268</th>\n",
       "      <td>Taxes less subsidies on products</td>\n",
       "      <td>2009</td>\n",
       "      <td>197187</td>\n",
       "    </tr>\n",
       "    <tr>\n",
       "      <th>269</th>\n",
       "      <td>GDP at market prices</td>\n",
       "      <td>2009</td>\n",
       "      <td>1392832</td>\n",
       "    </tr>\n",
       "  </tbody>\n",
       "</table>\n",
       "<p>270 rows × 3 columns</p>\n",
       "</div>"
      ],
      "text/plain": [
       "                              industry variable    value\n",
       "0             Agriculture and forestry     2001   273355\n",
       "1                              Fishing     2001     6532\n",
       "2                 Mining and quarrying     2001     4915\n",
       "3                        Manufacturing     2001    99777\n",
       "4         Electricity and water supply     2001    18158\n",
       "..                                 ...      ...      ...\n",
       "265             Health and social work     2009    11741\n",
       "266                     Other services     2009     2626\n",
       "267  Total value added at basic prices     2009   152117\n",
       "268   Taxes less subsidies on products     2009   197187\n",
       "269               GDP at market prices     2009  1392832\n",
       "\n",
       "[270 rows x 3 columns]"
      ]
     },
     "execution_count": 25,
     "metadata": {},
     "output_type": "execute_result"
    }
   ],
   "source": [
    "subset = df[['2001', '2002', '2003', '2004', '2005', '2006', '2007', '2008', '2009','industry']]\n",
    "subset_melt = subset.melt(id_vars=\"industry\")\n",
    "subset_melt"
   ]
  },
  {
   "cell_type": "code",
   "execution_count": 52,
   "metadata": {
    "ExecuteTime": {
     "end_time": "2020-06-28T08:38:05.411947Z",
     "start_time": "2020-06-28T08:38:04.402892Z"
    }
   },
   "outputs": [
    {
     "name": "stdout",
     "output_type": "stream",
     "text": [
      "['Solarize_Light2', '_classic_test_patch', 'bmh', 'classic', 'dark_background', 'fast', 'fivethirtyeight', 'ggplot', 'grayscale', 'seaborn', 'seaborn-bright', 'seaborn-colorblind', 'seaborn-dark', 'seaborn-dark-palette', 'seaborn-darkgrid', 'seaborn-deep', 'seaborn-muted', 'seaborn-notebook', 'seaborn-paper', 'seaborn-pastel', 'seaborn-poster', 'seaborn-talk', 'seaborn-ticks', 'seaborn-white', 'seaborn-whitegrid', 'tableau-colorblind10']\n"
     ]
    },
    {
     "data": {
      "image/png": "[encoded data removed]",
      "text/plain": [
       "<Figure size 720x360 with 1 Axes>"
      ]
     },
     "metadata": {},
     "output_type": "display_data"
    }
   ],
   "source": [
    "summed = subset_melt.groupby([\"industry\",\"variable\"]).sum().reset_index()\n",
    "import matplotlib.pyplot as plt\n",
    "print(plt.style.available)\n",
    "plt.style.use(\"tableau-colorblind10\")\n",
    "plt.figure(figsize = (10,5))\n",
    "plt.bar(summed[\"variable\"], summed[\"value\"]/1000)\n",
    "plt.title(\"GDP By year\")\n",
    "plt.ylabel(\"Gdp in thousands Ksh (000)\")\n",
    "plt.xlabel(\"Time in years\")\n",
    "plt.show()"
   ]
  },
  {
   "cell_type": "code",
   "execution_count": 40,
   "metadata": {
    "ExecuteTime": {
     "end_time": "2020-06-28T08:31:17.379916Z",
     "start_time": "2020-06-28T08:31:17.358930Z"
    }
   },
   "outputs": [
    {
     "data": {
      "text/html": [
       "<div>\n",
       "<style scoped>\n",
       "    .dataframe tbody tr th:only-of-type {\n",
       "        vertical-align: middle;\n",
       "    }\n",
       "\n",
       "    .dataframe tbody tr th {\n",
       "        vertical-align: top;\n",
       "    }\n",
       "\n",
       "    .dataframe thead th {\n",
       "        text-align: right;\n",
       "    }\n",
       "</style>\n",
       "<table border=\"1\" class=\"dataframe\">\n",
       "  <thead>\n",
       "    <tr style=\"text-align: right;\">\n",
       "      <th></th>\n",
       "      <th>industry</th>\n",
       "      <th>variable</th>\n",
       "      <th>value</th>\n",
       "    </tr>\n",
       "  </thead>\n",
       "  <tbody>\n",
       "    <tr>\n",
       "      <th>0</th>\n",
       "      <td>Agriculture and forestry</td>\n",
       "      <td>2001</td>\n",
       "      <td>277592</td>\n",
       "    </tr>\n",
       "    <tr>\n",
       "      <th>1</th>\n",
       "      <td>Agriculture and forestry</td>\n",
       "      <td>2002</td>\n",
       "      <td>269071</td>\n",
       "    </tr>\n",
       "    <tr>\n",
       "      <th>2</th>\n",
       "      <td>Agriculture and forestry</td>\n",
       "      <td>2003</td>\n",
       "      <td>276089</td>\n",
       "    </tr>\n",
       "    <tr>\n",
       "      <th>3</th>\n",
       "      <td>Agriculture and forestry</td>\n",
       "      <td>2004</td>\n",
       "      <td>280518</td>\n",
       "    </tr>\n",
       "    <tr>\n",
       "      <th>4</th>\n",
       "      <td>Agriculture and forestry</td>\n",
       "      <td>2005</td>\n",
       "      <td>299797</td>\n",
       "    </tr>\n",
       "  </tbody>\n",
       "</table>\n",
       "</div>"
      ],
      "text/plain": [
       "                   industry variable   value\n",
       "0  Agriculture and forestry     2001  277592\n",
       "1  Agriculture and forestry     2002  269071\n",
       "2  Agriculture and forestry     2003  276089\n",
       "3  Agriculture and forestry     2004  280518\n",
       "4  Agriculture and forestry     2005  299797"
      ]
     },
     "execution_count": 40,
     "metadata": {},
     "output_type": "execute_result"
    }
   ],
   "source": [
    "\n",
    "#!pip install pandas-bokeh\n",
    "summed.head()"
   ]
  },
  {
   "cell_type": "code",
   "execution_count": null,
   "metadata": {},
   "outputs": [],
   "source": []
  }
 ],
 "metadata": {
  "kernelspec": {
   "display_name": "Python 3",
   "language": "python",
   "name": "python3"
  },
  "language_info": {
   "codemirror_mode": {
    "name": "ipython",
    "version": 3
   },
   "file_extension": ".py",
   "mimetype": "text/x-python",
   "name": "python",
   "nbconvert_exporter": "python",
   "pygments_lexer": "ipython3",
   "version": "3.7.0"
  },
  "latex_envs": {
   "LaTeX_envs_menu_present": true,
   "autoclose": false,
   "autocomplete": true,
   "bibliofile": "biblio.bib",
   "cite_by": "apalike",
   "current_citInitial": 1,
   "eqLabelWithNumbers": true,
   "eqNumInitial": 1,
   "hotkeys": {
    "equation": "Ctrl-E",
    "itemize": "Ctrl-I"
   },
   "labels_anchors": false,
   "latex_user_defs": false,
   "report_style_numbering": false,
   "user_envs_cfg": false
  },
  "toc": {
   "base_numbering": 1,
   "nav_menu": {},
   "number_sections": true,
   "sideBar": true,
   "skip_h1_title": false,
   "title_cell": "Table of Contents",
   "title_sidebar": "Contents",
   "toc_cell": false,
   "toc_position": {},
   "toc_section_display": true,
   "toc_window_display": false
  }
 },
 "nbformat": 4,
 "nbformat_minor": 2
}
